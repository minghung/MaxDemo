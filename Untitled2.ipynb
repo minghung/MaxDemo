{
 "cells": [
  {
   "cell_type": "code",
   "execution_count": 1,
   "metadata": {},
   "outputs": [],
   "source": [
    "import pandas as pd\n",
    "from matplotlib import pyplot as plt\n",
    "'取出待分析的數據'\n",
    "df = pd.read_csv(\"countries.csv\")"
   ]
  },
  {
   "cell_type": "code",
   "execution_count": 4,
   "metadata": {},
   "outputs": [],
   "source": [
    "'萃取需分析的數據'\n",
    "JP = df[df.country==\"Japan\"]\n",
    "TW = df[df.country==\"Taiwan\"]"
   ]
  },
  {
   "cell_type": "code",
   "execution_count": 5,
   "metadata": {},
   "outputs": [
    {
     "data": {
      "image/png": "[encoded data removed]",
      "text/plain": [
       "<matplotlib.figure.Figure at 0x10de009b0>"
      ]
     },
     "metadata": {},
     "output_type": "display_data"
    }
   ],
   "source": [
    "'透過plot將兩類數據以折線圖表示'\n",
    "'之一的數據'\n",
    "plt.plot(JP.year, JP.population)\n",
    "'之二的數據'\n",
    "plt.plot(TW.year, TW.population)\n",
    "\n",
    "'定義表格說明'\n",
    "'x軸'\n",
    "plt.xlabel(\"Year\")\n",
    "'y軸'\n",
    "plt.ylabel(\"Population\")\n",
    "'表格標題'\n",
    "plt.title(\"Taiwan VS Japan\")\n",
    "'圖示'\n",
    "plt.legend([\"Japan\",\"Taiwan\"])\n",
    "\n",
    "'顯示圖表'\n",
    "plt.show()"
   ]
  },
  {
   "cell_type": "code",
   "execution_count": 8,
   "metadata": {},
   "outputs": [
    {
     "data": {
      "text/plain": [
       "Africa      624\n",
       "Asia        396\n",
       "Europe      360\n",
       "Americas    300\n",
       "Oceania      24\n",
       "Name: continent, dtype: int64"
      ]
     },
     "execution_count": 8,
     "metadata": {},
     "output_type": "execute_result"
    }
   ],
   "source": [
    "df.continent.value_counts()"
   ]
  },
  {
   "cell_type": "code",
   "execution_count": 54,
   "metadata": {},
   "outputs": [
    {
     "data": {
      "text/plain": [
       "<bound method Series.min of 11      2007\n",
       "95      2007\n",
       "107     2007\n",
       "227     2007\n",
       "299     2007\n",
       "671     2007\n",
       "707     2007\n",
       "719     2007\n",
       "731     2007\n",
       "743     2007\n",
       "767     2007\n",
       "803     2007\n",
       "815     2007\n",
       "839     2007\n",
       "851     2007\n",
       "863     2007\n",
       "875     2007\n",
       "947     2007\n",
       "1007    2007\n",
       "1055    2007\n",
       "1079    2007\n",
       "1163    2007\n",
       "1175    2007\n",
       "1223    2007\n",
       "1319    2007\n",
       "1367    2007\n",
       "1439    2007\n",
       "1499    2007\n",
       "1511    2007\n",
       "1535    2007\n",
       "1655    2007\n",
       "1667    2007\n",
       "1679    2007\n",
       "Name: year, dtype: int64>"
      ]
     },
     "execution_count": 54,
     "metadata": {},
     "output_type": "execute_result"
    }
   ],
   "source": [
    "df[(df.continent==\"Asia\") & (df.year==2007)].year.min"
   ]
  },
  {
   "cell_type": "code",
   "execution_count": 69,
   "metadata": {},
   "outputs": [],
   "source": [
    "Asia2007=df[(df.continent==\"Asia\") & (df.year==2007)]\n",
    "Europe2007=df[(df.continent==\"Europe\") & (df.year==2007)]"
   ]
  },
  {
   "cell_type": "code",
   "execution_count": 77,
   "metadata": {},
   "outputs": [
    {
     "data": {
      "image/png": "[encoded data removed]",
      "text/plain": [
       "<matplotlib.figure.Figure at 0x11ae1fa90>"
      ]
     },
     "metadata": {},
     "output_type": "display_data"
    }
   ],
   "source": [
    "'透過hist畫出長條圖'\n",
    "'將兩群資料合併一起顯示。說明：(合併顯示的資料數,一次顯示幾組資料,顯示資料的順序)'\n",
    "plt.subplot(2,1,1)\n",
    "'設定資料表格名稱'\n",
    "'plt.title(\"Asia\")'\n",
    "'綁定數據，並設定組距大小'\n",
    "plt.hist(Asia2007.gdpPerCapita, range=(0,50000))\n",
    "\n",
    "'設定要顯示的第二組數據'\n",
    "plt.subplot(2,1,2)\n",
    "'plt.title(\"Europe\")'\n",
    "plt.hist(Europe2007.gdpPerCapita, range=(0,50000))\n",
    "\n",
    "'顯示圖表'\n",
    "plt.show()"
   ]
  },
  {
   "cell_type": "code",
   "execution_count": null,
   "metadata": {},
   "outputs": [],
   "source": []
  }
 ],
 "metadata": {
  "kernelspec": {
   "display_name": "Python 3",
   "language": "python",
   "name": "python3"
  },
  "language_info": {
   "codemirror_mode": {
    "name": "ipython",
    "version": 3
   },
   "file_extension": ".py",
   "mimetype": "text/x-python",
   "name": "python",
   "nbconvert_exporter": "python",
   "pygments_lexer": "ipython3",
   "version": "3.6.4"
  }
 },
 "nbformat": 4,
 "nbformat_minor": 2
}
